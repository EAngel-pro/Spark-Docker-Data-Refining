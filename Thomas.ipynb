{
 "cells": [
  {
   "cell_type": "code",
   "execution_count": 1,
   "id": "7a981cf1",
   "metadata": {},
   "outputs": [
    {
     "name": "stdout",
     "output_type": "stream",
     "text": [
      "+------+---------+--------+--------------+--------------------+\n",
      "|   _c0|      _c1|     _c2|           _c3|                 _c4|\n",
      "+------+---------+--------+--------------+--------------------+\n",
      "|110573|   Rooney|  Juarez|(451) 772-6620|sit.amet.risus@ve...|\n",
      "|145806|     Hall|  Spence|(163) 775-0791|tellus.sem.mollis...|\n",
      "|199079|   Dillon|  Forbes|(861) 160-7071|ipsum.Suspendisse...|\n",
      "|124344|     Suki| Buckley|(486) 192-3503|pede.sagittis.aug...|\n",
      "|111643|   Hadley|  Benton|(802) 293-8506|semper@nonloborti...|\n",
      "|147895|   Daniel|    Howe|(923) 550-0213| amet.nulla@orci.com|\n",
      "|122145|    Rhoda|  Thomas|(997) 530-0130| vitae.sodales@a.com|\n",
      "|190924|     Lynn|    Kemp|(345) 550-8726|pharetra.felis.eg...|\n",
      "|193222|     Cleo|Caldwell|(959) 139-1641|sodales.nisi@disp...|\n",
      "|155384|  Zachery| Morales|(371) 737-6093|dui.in@neceuismod.ca|\n",
      "|126637|  Kasimir|   Small|(845) 411-0363|natoque.penatibus...|\n",
      "|139741|    Flynn|     Guy|(289) 625-5566|pharetra.ut@sodal...|\n",
      "|129568|     Wang| Whitley|(961) 980-4495|consectetuer.maur...|\n",
      "|175343|    Lucas| Summers|(994) 546-5377|faucibus.orci.luc...|\n",
      "|187809|MacKensie|    Ball|(271) 916-5939| ultrices@laoreet.ca|\n",
      "|142075| Amethyst|   Price|(215) 497-6848|Integer.vulputate...|\n",
      "|197783|   August|  Benton|(276) 805-4344|nunc.sit.amet@ide...|\n",
      "|198502|  Hillary|  Obrien|(856) 583-9977|dolor@magnaPhasel...|\n",
      "|186074|   Xavier|  Hunter|(966) 167-2762|tellus.Nunc.lectu...|\n",
      "|156761|  Bradley|   Burch|(531) 166-0162|quam.dignissim@am...|\n",
      "+------+---------+--------+--------------+--------------------+\n",
      "only showing top 20 rows\n",
      "\n"
     ]
    }
   ],
   "source": [
    "#init\n",
    "from pyspark.sql import SparkSession\n",
    "from pathlib import Path\n",
    "from datetime import datetime\n",
    "import json\n",
    "import http.client\n",
    "import requests\n",
    "import sys\n",
    "import pandas\n",
    "import os\n",
    "import shutil\n",
    "spark=SparkSession.builder.appName('Dataframe').getOrCreate()\n",
    "sqlContext = SparkSession(spark)\n",
    "spark.sparkContext.setLogLevel(\"WARN\") # Don't Show warning\n",
    "df_pyspark=spark.read.csv('ClientData100000.csv',header=False,inferSchema=True)\n",
    "df_pyspark.show()"
   ]
  },
  {
   "cell_type": "code",
   "execution_count": 2,
   "id": "d7045463",
   "metadata": {},
   "outputs": [
    {
     "name": "stdout",
     "output_type": "stream",
     "text": [
      "root\n",
      " |-- client_id: integer (nullable = true)\n",
      " |-- first_name: string (nullable = true)\n",
      " |-- last_name: string (nullable = true)\n",
      " |-- phone_number: string (nullable = true)\n",
      " |-- email_address: string (nullable = true)\n",
      "\n",
      "+---------+----------+---------+--------------+----------------------------------------------+\n",
      "|client_id|first_name|last_name|phone_number  |email_address                                 |\n",
      "+---------+----------+---------+--------------+----------------------------------------------+\n",
      "|110573   |Rooney    |Juarez   |(451) 772-6620|sit.amet.risus@velitegestaslacinia.com        |\n",
      "|145806   |Hall      |Spence   |(163) 775-0791|tellus.sem.mollis@a.ca                        |\n",
      "|199079   |Dillon    |Forbes   |(861) 160-7071|ipsum.Suspendisse@quamPellentesquehabitant.net|\n",
      "|124344   |Suki      |Buckley  |(486) 192-3503|pede.sagittis.augue@mi.ca                     |\n",
      "|111643   |Hadley    |Benton   |(802) 293-8506|semper@nonlobortisquis.ca                     |\n",
      "|147895   |Daniel    |Howe     |(923) 550-0213|amet.nulla@orci.com                           |\n",
      "|122145   |Rhoda     |Thomas   |(997) 530-0130|vitae.sodales@a.com                           |\n",
      "|190924   |Lynn      |Kemp     |(345) 550-8726|pharetra.felis.eget@pellentesque.org          |\n",
      "|193222   |Cleo      |Caldwell |(959) 139-1641|sodales.nisi@disparturientmontes.net          |\n",
      "|155384   |Zachery   |Morales  |(371) 737-6093|dui.in@neceuismod.ca                          |\n",
      "|126637   |Kasimir   |Small    |(845) 411-0363|natoque.penatibus.et@aduiCras.net             |\n",
      "|139741   |Flynn     |Guy      |(289) 625-5566|pharetra.ut@sodalespurus.net                  |\n",
      "|129568   |Wang      |Whitley  |(961) 980-4495|consectetuer.mauris@quis.com                  |\n",
      "|175343   |Lucas     |Summers  |(994) 546-5377|faucibus.orci.luctus@in.co.uk                 |\n",
      "|187809   |MacKensie |Ball     |(271) 916-5939|ultrices@laoreet.ca                           |\n",
      "|142075   |Amethyst  |Price    |(215) 497-6848|Integer.vulputate.risus@felis.ca              |\n",
      "|197783   |August    |Benton   |(276) 805-4344|nunc.sit.amet@idenim.co.uk                    |\n",
      "|198502   |Hillary   |Obrien   |(856) 583-9977|dolor@magnaPhasellus.net                      |\n",
      "|186074   |Xavier    |Hunter   |(966) 167-2762|tellus.Nunc.lectus@antedictumcursus.org       |\n",
      "|156761   |Bradley   |Burch    |(531) 166-0162|quam.dignissim@ametconsectetuer.edu           |\n",
      "+---------+----------+---------+--------------+----------------------------------------------+\n",
      "only showing top 20 rows\n",
      "\n"
     ]
    }
   ],
   "source": [
    "#build\n",
    "columns= [\"client_id\",\"first_name\",\"last_name\",\"phone_number\",\"email_address\"]\n",
    "df_pyspark2 = df_pyspark.withColumnRenamed('_c0','client_id')\n",
    "df_pyspark2 = df_pyspark2.withColumnRenamed('_c1','first_name')\n",
    "df_pyspark2 = df_pyspark2.withColumnRenamed('_c2','last_name')\n",
    "df_pyspark2 = df_pyspark2.withColumnRenamed('_c3','phone_number')\n",
    "df_pyspark2 = df_pyspark2.withColumnRenamed('_c4','email_address')\n",
    "df_pyspark2.printSchema()\n",
    "df_pyspark2.show(truncate=False)"
   ]
  },
  {
   "cell_type": "code",
   "execution_count": 3,
   "id": "5c2d6645",
   "metadata": {},
   "outputs": [
    {
     "name": "stdout",
     "output_type": "stream",
     "text": [
      "+---------+----------+----------+--------------+-------------------------------------------------+\n",
      "|client_id|first_name|last_name |phone_number  |email_address                                    |\n",
      "+---------+----------+----------+--------------+-------------------------------------------------+\n",
      "|100001   |Hammett   |Sandoval  |(658) 421-5393|Fusce.aliquet.magna@dui.org                      |\n",
      "|100002   |Shea      |Johnson   |(197) 155-2320|Pellentesque@cursuseteros.org                    |\n",
      "|100003   |Odessa    |Joyner    |(600) 915-6941|Mauris@Duisvolutpat.ca                           |\n",
      "|100004   |Emerson   |Weiss     |(628) 861-5531|consectetuer@tempusloremfringilla.edu            |\n",
      "|100005   |Keane     |Camacho   |(795) 322-5069|Mauris@Vestibulum.org                            |\n",
      "|100006   |Zelenia   |Livingston|(260) 358-4391|ut.odio@utaliquam.co.uk                          |\n",
      "|100007   |Hayes     |Montoya   |(623) 711-2736|Pellentesque.ultricies.dignissim@dolorsitamet.edu|\n",
      "|100008   |Garrett   |Finch     |(767) 799-1431|blandit.mattis.Cras@commodo.com                  |\n",
      "|100009   |Wylie     |Holder    |(898) 508-8088|ligula.tortor.dictum@Phasellusinfelis.co.uk      |\n",
      "|100010   |Jessamine |Gordon    |(712) 388-9543|diam.dictum.sapien@ipsum.com                     |\n",
      "|100011   |Catherine |Sawyer    |(382) 312-3386|interdum.Curabitur@Quisque.edu                   |\n",
      "|100012   |Kitra     |Mckenzie  |(310) 982-8165|Cras.dolor.dolor@tinciduntneque.co.uk            |\n",
      "|100013   |Arthur    |Wyatt     |(925) 454-2109|mollis.dui.in@tellusimperdietnon.net             |\n",
      "|100014   |Dean      |Yates     |(245) 543-5888|tempus.risus.Donec@ridiculusmus.co.uk            |\n",
      "|100015   |Phelan    |French    |(485) 166-0877|ipsum.porta.elit@semmollis.com                   |\n",
      "|100016   |Karen     |Hancock   |(287) 241-6239|nonummy@euismodacfermentum.org                   |\n",
      "|100017   |Dahlia    |Sullivan  |(456) 377-2011|Phasellus@Sed.co.uk                              |\n",
      "|100018   |Jaime     |Myers     |(616) 558-4495|malesuada@magnaSedeu.edu                         |\n",
      "|100019   |Ulysses   |Rios      |(830) 684-4242|pharetra.sed.hendrerit@inaliquetlobortis.co.uk   |\n",
      "|100020   |Sandra    |Rogers    |(727) 352-4267|vitae@euplacerat.co.uk                           |\n",
      "+---------+----------+----------+--------------+-------------------------------------------------+\n",
      "only showing top 20 rows\n",
      "\n"
     ]
    }
   ],
   "source": [
    "#print\n",
    "df_pyspark2.sort(df_pyspark2.client_id.asc()).show(truncate=False)"
   ]
  },
  {
   "cell_type": "code",
   "execution_count": 4,
   "id": "ca74a0d9",
   "metadata": {},
   "outputs": [
    {
     "name": "stdout",
     "output_type": "stream",
     "text": [
      "+---------+----------+---------+--------------+--------------------------------------------------+\n",
      "|client_id|first_name|last_name|phone_number  |email_address                                     |\n",
      "+---------+----------+---------+--------------+--------------------------------------------------+\n",
      "|100094   |Uriel     |Thomas   |(913) 564-1436|est.mollis@sedturpisnec.net                       |\n",
      "|100796   |Kareem    |Thomas   |(469) 280-1516|ultricies.sem@faucibusMorbi.edu                   |\n",
      "|101004   |John      |Thomas   |(348) 759-7114|eu.neque@Cras.org                                 |\n",
      "|102671   |Richard   |Thomas   |(342) 157-0330|eget@lacuspedesagittis.edu                        |\n",
      "|102837   |Shelly    |Thomas   |(926) 602-6762|sed@parturientmontes.com                          |\n",
      "|102921   |Scott     |Thomas   |(833) 457-8554|arcu@faucibusorciluctus.org                       |\n",
      "|104445   |Natalie   |Thomas   |(221) 698-1110|orci@Etiamgravida.ca                              |\n",
      "|105533   |Candace   |Thomas   |(952) 865-5044|Duis.gravida@liberoProinsed.com                   |\n",
      "|107684   |Jakeem    |Thomas   |(674) 792-8067|orci.adipiscing@diam.co.uk                        |\n",
      "|107779   |Jasmine   |Thomas   |(650) 575-3182|massa.Quisque.porttitor@consectetuereuismodest.org|\n",
      "|109150   |Kimberly  |Thomas   |(458) 391-4073|Nunc@mollis.net                                   |\n",
      "|109748   |Emmanuel  |Thomas   |(496) 622-7459|Donec.feugiat.metus@quamvel.org                   |\n",
      "|111318   |Stone     |Thomas   |(884) 530-5174|non@turpisnecmauris.ca                            |\n",
      "|112996   |Zane      |Thomas   |(723) 576-4582|consectetuer.adipiscing.elit@tinciduntvehicula.net|\n",
      "|117077   |Colby     |Thomas   |(465) 251-7043|Quisque.imperdiet.erat@hymenaeosMauris.edu        |\n",
      "|117906   |Abraham   |Thomas   |(401) 925-3543|mi.eleifend@odio.co.uk                            |\n",
      "|118106   |Clayton   |Thomas   |(586) 455-8211|ullamcorper.Duis.at@interdum.ca                   |\n",
      "|118762   |Marsden   |Thomas   |(215) 864-2914|non@metus.co.uk                                   |\n",
      "|120568   |Simone    |Thomas   |(129) 799-3709|pede.sagittis@urnaUttincidunt.net                 |\n",
      "|122145   |Rhoda     |Thomas   |(997) 530-0130|vitae.sodales@a.com                               |\n",
      "+---------+----------+---------+--------------+--------------------------------------------------+\n",
      "only showing top 20 rows\n",
      "\n"
     ]
    }
   ],
   "source": [
    "#refine data\n",
    "df_pyspark3=df_pyspark2.filter(df_pyspark2.last_name == 'Thomas')\n",
    "df_pyspark3 = df_pyspark3.sort(df_pyspark3.client_id.asc())\n",
    "df_pyspark3.show(truncate=False)"
   ]
  },
  {
   "cell_type": "code",
   "execution_count": 5,
   "id": "50d19ce8",
   "metadata": {},
   "outputs": [],
   "source": [
    "#dataframe to new csv\n",
    "pandata = df_pyspark3.toPandas()\n",
    "pandata.to_csv('Thomas.csv', index=False)"
   ]
  },
  {
   "cell_type": "code",
   "execution_count": null,
   "id": "7bff7158",
   "metadata": {},
   "outputs": [],
   "source": []
  }
 ],
 "metadata": {
  "kernelspec": {
   "display_name": "Python 3 (ipykernel)",
   "language": "python",
   "name": "python3"
  },
  "language_info": {
   "codemirror_mode": {
    "name": "ipython",
    "version": 3
   },
   "file_extension": ".py",
   "mimetype": "text/x-python",
   "name": "python",
   "nbconvert_exporter": "python",
   "pygments_lexer": "ipython3",
   "version": "3.9.13"
  }
 },
 "nbformat": 4,
 "nbformat_minor": 5
}
